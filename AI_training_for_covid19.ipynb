{
  "nbformat": 4,
  "nbformat_minor": 0,
  "metadata": {
    "colab": {
      "name": "AI_training_for_Doctor_X.ipynb",
      "provenance": [],
      "collapsed_sections": [],
      "machine_shape": "hm"
    },
    "kernelspec": {
      "name": "python3",
      "display_name": "Python 3"
    },
    "accelerator": "TPU"
  },
  "cells": [
    {
      "cell_type": "code",
      "metadata": {
        "id": "2ByaMR4DDveo",
        "colab_type": "code",
        "colab": {}
      },
      "source": [
        "#connecting google drive\n",
        "from google.colab import drive\n",
        "drive.mount('/content/drive')"
      ],
      "execution_count": 0,
      "outputs": []
    },
    {
      "cell_type": "code",
      "metadata": {
        "id": "SXPzQFP_yS_p",
        "colab_type": "code",
        "colab": {}
      },
      "source": [
        "#saving dataset(dowload) file to google drive\n",
        "!cp /content/a.zip /content/drive/My\\ Drive/a.zip "
      ],
      "execution_count": 0,
      "outputs": []
    },
    {
      "cell_type": "code",
      "metadata": {
        "id": "Ll1mj6-4DwjC",
        "colab_type": "code",
        "colab": {}
      },
      "source": [
        "#retreiving dataset from google drive\n",
        "!cp /content/drive/My\\ Drive/a.zip /content/a.zip"
      ],
      "execution_count": 0,
      "outputs": []
    },
    {
      "cell_type": "code",
      "metadata": {
        "id": "gAr46HERy0xy",
        "colab_type": "code",
        "colab": {}
      },
      "source": [
        "#this is one time process for storing dataset in google drive"
      ],
      "execution_count": 0,
      "outputs": []
    },
    {
      "cell_type": "code",
      "metadata": {
        "id": "L0xzKLBoVoeb",
        "colab_type": "code",
        "colab": {}
      },
      "source": [
        "#unzip dataset\n",
        "!unzip a.zip "
      ],
      "execution_count": 0,
      "outputs": []
    },
    {
      "cell_type": "code",
      "metadata": {
        "id": "R9blhNWSWPSs",
        "colab_type": "code",
        "colab": {}
      },
      "source": [
        "#for removing unziped folder due to trubleshooting\n",
        "!rm -d -r /content/a.zip"
      ],
      "execution_count": 0,
      "outputs": []
    },
    {
      "cell_type": "code",
      "metadata": {
        "id": "MH6ZUbwpW_tZ",
        "colab_type": "code",
        "colab": {}
      },
      "source": [
        "# Deep neural network\n",
        "#convolution neural network\n",
        "import tensorflow as tf\n",
        "import tensorflow.keras\n",
        "from tensorflow.keras.models import Sequential\n",
        "from tensorflow.keras.layers import Dense, Dropout, Flatten\n",
        "from tensorflow.keras.layers import Conv2D, MaxPooling2D\n",
        "from tensorflow.keras.utils import to_categorical\n",
        "from tensorflow.keras.preprocessing import image\n",
        "import numpy as np\n",
        "import pandas as pd\n",
        "from tqdm import tqdm\n"
      ],
      "execution_count": 0,
      "outputs": []
    },
    {
      "cell_type": "code",
      "metadata": {
        "id": "oH64qK_mXhe8",
        "colab_type": "code",
        "colab": {}
      },
      "source": [
        "#paths for datafile\n",
        "train_images_paths=\"/content/MURA-v1.1/train_image_paths.csv\"\n",
        "#loading csv files\n",
        "train_paths = pd.read_csv(train_images_paths)\n",
        "valid_image_paths='/content/MURA-v1.1/valid_image_paths.csv'\n",
        "valid_paths = pd.read_csv(valid_image_paths)"
      ],
      "execution_count": 0,
      "outputs": []
    },
    {
      "cell_type": "code",
      "metadata": {
        "id": "jEwy76kb3dR_",
        "colab_type": "code",
        "colab": {}
      },
      "source": [
        "train_paths.head(4)"
      ],
      "execution_count": 0,
      "outputs": []
    },
    {
      "cell_type": "code",
      "metadata": {
        "id": "kBbDvHwdyRLT",
        "colab_type": "code",
        "colab": {}
      },
      "source": [
        "valid_paths.head(4)"
      ],
      "execution_count": 0,
      "outputs": []
    },
    {
      "cell_type": "code",
      "metadata": {
        "id": "Gq4P7zEbe33Q",
        "colab_type": "code",
        "colab": {}
      },
      "source": [
        "def diagnose(train_path):\n",
        "  train_label_diag=111;\n",
        "  if train_path.find('study1_positive')!=-1 or train_path.find('study2_positive')!=-1 or \\\n",
        "  train_path.find('study3_positive')!=-1 or train_path.find('study4_positive')!=-1:\n",
        "    train_label_diag=1\n",
        "  elif train_path.find('study1_negative')!=-1 or train_path.find('study2_negative')!=-1 or \\\n",
        "  train_path.find('study3_negative')!=-1 or train_path.find('study4_negative')!=-1:\n",
        "    train_label_diag=0\n",
        "  else:\n",
        "    train_label_diag=-1\n",
        "  return train_label_diag"
      ],
      "execution_count": 0,
      "outputs": []
    },
    {
      "cell_type": "code",
      "metadata": {
        "id": "nirHsXCBybas",
        "colab_type": "code",
        "colab": {}
      },
      "source": [
        "#loading dataset for training from csv file\n",
        "train_image=[]\n",
        "train_label_diag=[]\n",
        "for i in tqdm(range(train_paths.shape[0])):\n",
        "      if train_paths['MURA-v1.1/train/XR_SHOULDER/patient00001/study1_positive/image1.png'][i].find('XR_ELBOW')!=-1:\n",
        "        img = image.load_img('/content/'+train_paths['MURA-v1.1/train/XR_SHOULDER/patient00001/study1_positive/image1.png'][i], target_size=(456,512), grayscale=True)\n",
        "        img = image.img_to_array(img)\n",
        "        img = img/255\n",
        "        train_image.append(img)\n",
        "        train_label_diag.append(diagnose(train_paths['MURA-v1.1/train/XR_SHOULDER/patient00001/study1_positive/image1.png'][i]))"
      ],
      "execution_count": 0,
      "outputs": []
    },
    {
      "cell_type": "code",
      "metadata": {
        "id": "aijGUDa0eTaQ",
        "colab_type": "code",
        "colab": {}
      },
      "source": [
        "valid_image=[]\n",
        "valid_label_diag=[]\n",
        "del img\n",
        "for i in tqdm(range(valid_paths.shape[0])):\n",
        "      if valid_paths['MURA-v1.1/valid/XR_WRIST/patient11185/study1_positive/image1.png'][i].find('XR_ELBOW')!=-1:\n",
        "        img = image.load_img('/content/'+valid_paths['MURA-v1.1/valid/XR_WRIST/patient11185/study1_positive/image1.png'][i], target_size=(456,512), grayscale=True)\n",
        "        img = image.img_to_array(img)\n",
        "        img = img/255\n",
        "\n",
        "       \n",
        "        valid_image.append(img)\n",
        "        valid_label_diag.append(diagnose(valid_paths['MURA-v1.1/valid/XR_WRIST/patient11185/study1_positive/image1.png'][i]))"
      ],
      "execution_count": 0,
      "outputs": []
    },
    {
      "cell_type": "code",
      "metadata": {
        "id": "_W6lGvt0l0hU",
        "colab_type": "code",
        "colab": {}
      },
      "source": [
        "#convirting data to array format for training\n",
        "x_train=np.array(train_image)\n",
        "y_train=np.array(train_label_diag)\n",
        "x_valid=np.array(valid_image)\n",
        "y_valid=np.array(valid_label_diag)"
      ],
      "execution_count": 0,
      "outputs": []
    },
    {
      "cell_type": "code",
      "metadata": {
        "id": "cv97Mc0A4okT",
        "colab_type": "code",
        "colab": {}
      },
      "source": [
        "x_valid.shape"
      ],
      "execution_count": 0,
      "outputs": []
    },
    {
      "cell_type": "code",
      "metadata": {
        "id": "qNOd8k6mhfO8",
        "colab_type": "code",
        "colab": {}
      },
      "source": [
        "\n",
        "Y_train=to_categorical(y_train)\n",
        "Y_valid=to_categorical(y_valid)"
      ],
      "execution_count": 0,
      "outputs": []
    },
    {
      "cell_type": "code",
      "metadata": {
        "id": "ob6ENK3i5n2r",
        "colab_type": "code",
        "colab": {}
      },
      "source": [
        "x_train_image=x_train[:,:,:,0].copy()\n",
        "x_valid_image=x_valid[:,:,:,0].copy()"
      ],
      "execution_count": 0,
      "outputs": []
    },
    {
      "cell_type": "code",
      "metadata": {
        "id": "0YwlEJnORKEf",
        "colab_type": "code",
        "colab": {}
      },
      "source": [
        "model = Sequential()\n",
        "model.add(Conv2D(32, kernel_size=(3, 3),activation='relu',input_shape=(456,512,1)))\n",
        "model.add(Conv2D(64, (3, 3), activation='relu'))\n",
        "model.add(MaxPooling2D(pool_size=(2, 2)))\n",
        "model.add(Conv2D(64, (3, 3), activation='relu'))\n",
        "model.add(MaxPooling2D(pool_size=(2, 2)))\n",
        "model.add(Conv2D(64, (3, 3), activation='relu'))\n",
        "model.add(MaxPooling2D(pool_size=(2, 2)))\n",
        "model.add(Conv2D(64, (3, 3), activation='relu'))\n",
        "model.add(MaxPooling2D(pool_size=(2, 2)))\n",
        "model.add(Dropout(0.25))\n",
        "model.add(Flatten())\n",
        "model.add(Dense(128, activation='relu'))\n",
        "model.add(Dropout(0.5))\n",
        "model.add(Dense(2, activation='softmax'))"
      ],
      "execution_count": 0,
      "outputs": []
    },
    {
      "cell_type": "code",
      "metadata": {
        "id": "13upNm9V5yDL",
        "colab_type": "code",
        "outputId": "24b9b2d3-2aec-43d5-c408-706ca46c2879",
        "colab": {
          "base_uri": "https://localhost:8080/",
          "height": 594
        }
      },
      "source": [
        "model.compile(loss='categorical_crossentropy',optimizer='Adam',metrics=['accuracy'])\n",
        "model.summary()"
      ],
      "execution_count": 0,
      "outputs": [
        {
          "output_type": "stream",
          "text": [
            "Model: \"sequential\"\n",
            "_________________________________________________________________\n",
            "Layer (type)                 Output Shape              Param #   \n",
            "=================================================================\n",
            "conv2d (Conv2D)              (None, 454, 510, 32)      320       \n",
            "_________________________________________________________________\n",
            "conv2d_1 (Conv2D)            (None, 452, 508, 64)      18496     \n",
            "_________________________________________________________________\n",
            "max_pooling2d (MaxPooling2D) (None, 226, 254, 64)      0         \n",
            "_________________________________________________________________\n",
            "conv2d_2 (Conv2D)            (None, 224, 252, 64)      36928     \n",
            "_________________________________________________________________\n",
            "max_pooling2d_1 (MaxPooling2 (None, 112, 126, 64)      0         \n",
            "_________________________________________________________________\n",
            "conv2d_3 (Conv2D)            (None, 110, 124, 64)      36928     \n",
            "_________________________________________________________________\n",
            "max_pooling2d_2 (MaxPooling2 (None, 55, 62, 64)        0         \n",
            "_________________________________________________________________\n",
            "conv2d_4 (Conv2D)            (None, 53, 60, 64)        36928     \n",
            "_________________________________________________________________\n",
            "max_pooling2d_3 (MaxPooling2 (None, 26, 30, 64)        0         \n",
            "_________________________________________________________________\n",
            "dropout (Dropout)            (None, 26, 30, 64)        0         \n",
            "_________________________________________________________________\n",
            "flatten (Flatten)            (None, 49920)             0         \n",
            "_________________________________________________________________\n",
            "dense (Dense)                (None, 128)               6389888   \n",
            "_________________________________________________________________\n",
            "dropout_1 (Dropout)          (None, 128)               0         \n",
            "_________________________________________________________________\n",
            "dense_1 (Dense)              (None, 2)                 258       \n",
            "=================================================================\n",
            "Total params: 6,519,746\n",
            "Trainable params: 6,519,746\n",
            "Non-trainable params: 0\n",
            "_________________________________________________________________\n"
          ],
          "name": "stdout"
        }
      ]
    },
    {
      "cell_type": "code",
      "metadata": {
        "id": "wzU1O9gDlDwX",
        "colab_type": "code",
        "outputId": "93e46300-243c-4153-8ee4-6ddc28a37724",
        "colab": {
          "base_uri": "https://localhost:8080/",
          "height": 656
        }
      },
      "source": [
        "from keras.models import load_model\n",
        "from keras.initializers import glorot_uniform\n",
        "\n",
        "model=load_model('elbow.h5',custom_objects={'GlorotUniform': glorot_uniform()}, compile=False)\n",
        "model.summary()"
      ],
      "execution_count": 0,
      "outputs": [
        {
          "output_type": "stream",
          "text": [
            "Model: \"sequential\"\n",
            "_________________________________________________________________\n",
            "Layer (type)                 Output Shape              Param #   \n",
            "=================================================================\n",
            "conv2d (Conv2D)              (None, 454, 510, 32)      320       \n",
            "_________________________________________________________________\n",
            "conv2d_1 (Conv2D)            (None, 452, 508, 64)      18496     \n",
            "_________________________________________________________________\n",
            "max_pooling2d (MaxPooling2D) (None, 226, 254, 64)      0         \n",
            "_________________________________________________________________\n",
            "conv2d_2 (Conv2D)            (None, 224, 252, 64)      36928     \n",
            "_________________________________________________________________\n",
            "max_pooling2d_1 (MaxPooling2 (None, 112, 126, 64)      0         \n",
            "_________________________________________________________________\n",
            "conv2d_3 (Conv2D)            (None, 110, 124, 64)      36928     \n",
            "_________________________________________________________________\n",
            "max_pooling2d_2 (MaxPooling2 (None, 55, 62, 64)        0         \n",
            "_________________________________________________________________\n",
            "conv2d_4 (Conv2D)            (None, 53, 60, 64)        36928     \n",
            "_________________________________________________________________\n",
            "max_pooling2d_3 (MaxPooling2 (None, 26, 30, 64)        0         \n",
            "_________________________________________________________________\n",
            "dropout (Dropout)            (None, 26, 30, 64)        0         \n",
            "_________________________________________________________________\n",
            "flatten (Flatten)            (None, 49920)             0         \n",
            "_________________________________________________________________\n",
            "dense (Dense)                (None, 128)               6389888   \n",
            "_________________________________________________________________\n",
            "dropout_1 (Dropout)          (None, 128)               0         \n",
            "_________________________________________________________________\n",
            "dense_1 (Dense)              (None, 2)                 258       \n",
            "=================================================================\n",
            "Total params: 6,519,746\n",
            "Trainable params: 6,519,746\n",
            "Non-trainable params: 0\n",
            "_________________________________________________________________\n"
          ],
          "name": "stdout"
        }
      ]
    },
    {
      "cell_type": "code",
      "metadata": {
        "id": "z_90InFp12yM",
        "colab_type": "code",
        "outputId": "abfbec38-a850-47fa-9eb8-8e8be6d328fd",
        "colab": {
          "base_uri": "https://localhost:8080/",
          "height": 34
        }
      },
      "source": [
        "x_valid.shape"
      ],
      "execution_count": 0,
      "outputs": [
        {
          "output_type": "execute_result",
          "data": {
            "text/plain": [
              "(1, 456, 512, 1)"
            ]
          },
          "metadata": {
            "tags": []
          },
          "execution_count": 37
        }
      ]
    },
    {
      "cell_type": "code",
      "metadata": {
        "id": "6hB9UbNR514S",
        "colab_type": "code",
        "outputId": "f8878d1c-0125-49a2-cef2-e16698bcfd75",
        "colab": {
          "base_uri": "https://localhost:8080/",
          "height": 340
        }
      },
      "source": [
        "model.fit(x_train, Y_train, epochs=8, validation_data=(x_valid, Y_valid))"
      ],
      "execution_count": 0,
      "outputs": [
        {
          "output_type": "stream",
          "text": [
            "Train on 5106 samples, validate on 461 samples\n",
            "Epoch 1/8\n",
            "5106/5106 [==============================] - 939s 184ms/sample - loss: 0.6597 - acc: 0.6406 - val_loss: 0.6991 - val_acc: 0.6117\n",
            "Epoch 2/8\n",
            "5106/5106 [==============================] - 937s 183ms/sample - loss: 0.5968 - acc: 0.6743 - val_loss: 0.6682 - val_acc: 0.6312\n",
            "Epoch 3/8\n",
            "5106/5106 [==============================] - 934s 183ms/sample - loss: 0.5722 - acc: 0.7002 - val_loss: 0.6847 - val_acc: 0.6551\n",
            "Epoch 4/8\n",
            "5106/5106 [==============================] - 940s 184ms/sample - loss: 0.5310 - acc: 0.7288 - val_loss: 0.6698 - val_acc: 0.6594\n",
            "Epoch 5/8\n",
            "5106/5106 [==============================] - 935s 183ms/sample - loss: 0.4904 - acc: 0.7575 - val_loss: 0.7796 - val_acc: 0.6269\n",
            "Epoch 6/8\n",
            "5106/5106 [==============================] - 934s 183ms/sample - loss: 0.4420 - acc: 0.7902 - val_loss: 0.8004 - val_acc: 0.6074\n",
            "Epoch 7/8\n",
            "5106/5106 [==============================] - 942s 185ms/sample - loss: 0.3729 - acc: 0.8371 - val_loss: 0.9043 - val_acc: 0.6421\n",
            "Epoch 8/8\n",
            "5106/5106 [==============================] - 944s 185ms/sample - loss: 0.3037 - acc: 0.8709 - val_loss: 1.0842 - val_acc: 0.6291\n"
          ],
          "name": "stdout"
        },
        {
          "output_type": "execute_result",
          "data": {
            "text/plain": [
              "<tensorflow.python.keras.callbacks.History at 0x7f0a6444f438>"
            ]
          },
          "metadata": {
            "tags": []
          },
          "execution_count": 24
        }
      ]
    },
    {
      "cell_type": "code",
      "metadata": {
        "id": "UwKI-1bi7WcL",
        "colab_type": "code",
        "colab": {}
      },
      "source": [
        "prediction = model.predict_classes(x_valid)"
      ],
      "execution_count": 0,
      "outputs": []
    },
    {
      "cell_type": "code",
      "metadata": {
        "id": "FvKSSafPSRaO",
        "colab_type": "code",
        "colab": {}
      },
      "source": [
        "model.save('model.h5')    "
      ],
      "execution_count": 0,
      "outputs": []
    },
    {
      "cell_type": "code",
      "metadata": {
        "id": "oifromBO931j",
        "colab_type": "code",
        "colab": {}
      },
      "source": [
        "from sklearn.metrics import confusion_matrix\n",
        "con_mat=confusion_matrix(y_valid, prediction)\n",
        "print(con_mat)"
      ],
      "execution_count": 0,
      "outputs": []
    },
    {
      "cell_type": "code",
      "metadata": {
        "id": "2evpEAo9kEAN",
        "colab_type": "code",
        "colab": {}
      },
      "source": [
        "con_mat_norm = np.around(con_mat.astype('float')/ con_mat.sum(axis=1)[:,np.newaxis],decimals=2)\n",
        "con_mat_df = pd.DataFrame(con_mat_norm, index = ['negative', 'positive'], columns=['negative','positive'])\n",
        "con_mat_df\n"
      ],
      "execution_count": 0,
      "outputs": []
    },
    {
      "cell_type": "code",
      "metadata": {
        "id": "kDDdmwsPpYYm",
        "colab_type": "code",
        "colab": {}
      },
      "source": [
        "import matplotlib.pyplot as plt\n",
        "import seaborn as sns\n",
        "figure = plt.figure()\n",
        "sns.heatmap(con_mat_df, annot=True, cmap=plt.cm.Blues)\n",
        "plt.tight_layout()\n",
        "plt.xlabel('Prediction Labels')\n",
        "plt.ylabel('True Labels')\n",
        "plt.show()"
      ],
      "execution_count": 0,
      "outputs": []
    }
  ]
}